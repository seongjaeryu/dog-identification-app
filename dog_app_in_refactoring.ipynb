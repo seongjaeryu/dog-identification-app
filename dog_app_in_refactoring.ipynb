{
 "cells": [
  {
   "cell_type": "code",
   "execution_count": 45,
   "metadata": {},
   "outputs": [],
   "source": [
    "# library list\n",
    "\n",
    "import numpy as np\n",
    "from glob import glob\n",
    "\n",
    "import os\n",
    "\n",
    "import sys\n",
    "from itertools import groupby\n",
    "import itertools\n",
    "import pprint"
   ]
  },
  {
   "cell_type": "code",
   "execution_count": 2,
   "metadata": {},
   "outputs": [
    {
     "data": {
      "text/plain": [
       "'3.6.3 | packaged by conda-forge | (default, Dec  9 2017, 04:28:46) \\n[GCC 4.8.2 20140120 (Red Hat 4.8.2-15)]'"
      ]
     },
     "execution_count": 2,
     "metadata": {},
     "output_type": "execute_result"
    }
   ],
   "source": [
    "# Sys version check\n",
    "# import sys\n",
    "sys.version"
   ]
  },
  {
   "cell_type": "code",
   "execution_count": 3,
   "metadata": {},
   "outputs": [],
   "source": [
    "def remove_prefix(text, prefix):\n",
    "    return text[len(prefix):] if text.startswith(prefix) else text"
   ]
  },
  {
   "cell_type": "code",
   "execution_count": 4,
   "metadata": {},
   "outputs": [],
   "source": [
    "def remove_suffix(text, sufix):\n",
    "    return text[:len(sufix)] if text.endswith(prefix) else text"
   ]
  },
  {
   "cell_type": "code",
   "execution_count": 5,
   "metadata": {},
   "outputs": [],
   "source": [
    "def all_equal(iterable):\n",
    "    g = groupby(iterable)\n",
    "    return next(g, True) and not next(g, False)"
   ]
  },
  {
   "cell_type": "code",
   "execution_count": 6,
   "metadata": {},
   "outputs": [],
   "source": [
    "def craete_sub_dir_list(path):\n",
    "    sub_dir_list = []\n",
    "    for sub_path in glob(f'{path}/*', recursive=True):\n",
    "        sub_dir_list.append(sub_path[len(path)+1:])\n",
    "    return sub_dir_list"
   ]
  },
  {
   "cell_type": "code",
   "execution_count": 7,
   "metadata": {},
   "outputs": [],
   "source": [
    "def create_label(sub_dir):\n",
    "    label_list = craete_sub_dir_list(sub_dir)\n",
    "    return label_list"
   ]
  },
  {
   "cell_type": "code",
   "execution_count": 14,
   "metadata": {},
   "outputs": [],
   "source": [
    "def count_label(sub_dir, is_msg_on=True):\n",
    "    label_list = create_label(sub_dir)\n",
    "    label_count = len(label_list)\n",
    "    if is_msg_on:\n",
    "            print(f'[_] Data Path: {sub_dir}\\n',\n",
    "                  f'   Num. of labels: {label_count}')\n",
    "    return label_count"
   ]
  },
  {
   "cell_type": "code",
   "execution_count": 15,
   "metadata": {},
   "outputs": [],
   "source": [
    "def find_intersection(dictionary):\n",
    "    inte_set = set(list(dictionary.values())[0])\n",
    "    for l in [v for v in dictionary.values()]:\n",
    "        inte_set = inte_set.intersection(l)      \n",
    "    return inte_set"
   ]
  },
  {
   "cell_type": "code",
   "execution_count": 16,
   "metadata": {},
   "outputs": [],
   "source": [
    "def check_is_same_label_w_sub(path, is_msg_on=True):\n",
    "    sub_dir_list = craete_sub_dir_list(path)\n",
    "    if is_msg_on:\n",
    "        print(f'Sub directory list of the path: {sub_dir_list}')\n",
    "    label_dict = {}\n",
    "    for i, sub_dir in enumerate(sub_dir_list):\n",
    "        label_dict[i] = craete_sub_dir_list(f'{path}/{sub_dir}')\n",
    "        label_dict[i] = sorted(label_dict[i])\n",
    "    \n",
    "    # Error: if label sizes are inequal, return false with error msg\n",
    "    label_size_list = [len(x) for x in label_dict.values()]\n",
    "    if not all_equal(iter(label_size_list)):\n",
    "        if is_msg_on:\n",
    "            print(f'[!] Alert: inequal label size\\n',\n",
    "                  f'   Data Path: {path}\\n',\n",
    "                  f'   Labels: {list(zip((label_dict.keys()),label_size_list))}')\n",
    "        return False\n",
    "    \n",
    "    # Good: if all labels are same\n",
    "    elif all_equal(iter(label_dict.values())):\n",
    "        if is_msg_on:\n",
    "            print(f'[v] Good to go. All the labels are same!\\n',\n",
    "                  f'   Data Path: {path}\\n',\n",
    "                  f'   Num. of sub dirs: {len(sub_dir_list)}\\n',\n",
    "                  f'   Num. of labels: {label_size_list[0]}')\n",
    "        return True, label_size_list[0]\n",
    "              \n",
    "    # Error: if label sizes are equal but they are not same, return false\n",
    "    else:\n",
    "        if is_msg_on:\n",
    "            inte_set = find_intersection(label_dict)\n",
    "            print(f'[!] Alert: Label sizes are equal but not same.\\n',\n",
    "                  f'   Data Path: {path}\\n',\n",
    "                  f'   Different Labels below.____\\n')\n",
    "            for i, labels in label_dict.items():\n",
    "                # sub dir : e.g. train, validation, test\n",
    "                _sub_dir = sub_dir_list[i]\n",
    "                for label in labels:\n",
    "                    print(f'{_sub_dir}: {label}')\n",
    "            print('END____________________________\\n')\n",
    "        return False"
   ]
  },
  {
   "cell_type": "code",
   "execution_count": 54,
   "metadata": {},
   "outputs": [],
   "source": [
    "def creat_count_dict(dictionary, spliter='/', spliter_idx=3):\n",
    "    count_dict = {}\n",
    "    for item in dictionary:\n",
    "        _key = item.split(spliter)[spliter_idx]\n",
    "        if _key in count_dict.keys():\n",
    "            count_dict[_key] += 1\n",
    "        else:\n",
    "            count_dict[_key] = 1\n",
    "    return count_dict"
   ]
  },
  {
   "cell_type": "code",
   "execution_count": 55,
   "metadata": {},
   "outputs": [],
   "source": [
    "def sort_dict(dictionary, sorted_by='key' ,reverse=False, replace_key=False, replace_key_from='_', replace_key_to=' '):\n",
    "    # sorted by key(0) or value(1) \n",
    "    if sorted_by == 'key':\n",
    "            i = 0\n",
    "    else:\n",
    "            i = 1\n",
    "            \n",
    "    # (if)replace key or (else)not\n",
    "    if replace_key:\n",
    "        return {k.replace(replace_key_from, replace_key_to): v for k, v in sorted(dictionary.items(), key=lambda item: item[i], reverse=reverse)}\n",
    "    else:\n",
    "        return {k: v for k, v in sorted(dictionary.items(), key=lambda item: item[i], reverse=reverse)}"
   ]
  },
  {
   "cell_type": "code",
   "execution_count": null,
   "metadata": {},
   "outputs": [],
   "source": [
    "def plot_count_dict():\n",
    "    pass"
   ]
  },
  {
   "cell_type": "code",
   "execution_count": null,
   "metadata": {},
   "outputs": [],
   "source": [
    "def plot_training_process():\n",
    "    pass"
   ]
  },
  {
   "cell_type": "code",
   "execution_count": null,
   "metadata": {},
   "outputs": [],
   "source": [
    "def import_model_pytorch():\n",
    "    pass"
   ]
  },
  {
   "cell_type": "code",
   "execution_count": null,
   "metadata": {},
   "outputs": [],
   "source": [
    "def customize_model_pytorch():\n",
    "    pass"
   ]
  },
  {
   "cell_type": "code",
   "execution_count": null,
   "metadata": {},
   "outputs": [],
   "source": [
    "def fit_model_pytorch():\n",
    "    pass"
   ]
  },
  {
   "cell_type": "code",
   "execution_count": null,
   "metadata": {},
   "outputs": [],
   "source": [
    "def import_model_torchvision():\n",
    "    pass"
   ]
  },
  {
   "cell_type": "code",
   "execution_count": null,
   "metadata": {},
   "outputs": [],
   "source": [
    "def customize_model_torchvision():\n",
    "    pass"
   ]
  },
  {
   "cell_type": "code",
   "execution_count": null,
   "metadata": {},
   "outputs": [],
   "source": [
    "def fit_model_torchvision():\n",
    "    pass"
   ]
  },
  {
   "cell_type": "code",
   "execution_count": null,
   "metadata": {},
   "outputs": [],
   "source": [
    "def create_model_custom():\n",
    "    pass"
   ]
  },
  {
   "cell_type": "code",
   "execution_count": null,
   "metadata": {},
   "outputs": [],
   "source": [
    "def fit_model_custom():\n",
    "    pass"
   ]
  },
  {
   "cell_type": "code",
   "execution_count": null,
   "metadata": {},
   "outputs": [],
   "source": [
    "def create_predictor():\n",
    "    pass"
   ]
  },
  {
   "cell_type": "code",
   "execution_count": null,
   "metadata": {},
   "outputs": [],
   "source": [
    "def predict():\n",
    "    pass"
   ]
  },
  {
   "cell_type": "code",
   "execution_count": null,
   "metadata": {},
   "outputs": [],
   "source": [
    "def plot_testing_process():\n",
    "    pass"
   ]
  },
  {
   "cell_type": "code",
   "execution_count": null,
   "metadata": {},
   "outputs": [],
   "source": [
    "def test_model():\n",
    "    pass"
   ]
  },
  {
   "cell_type": "code",
   "execution_count": null,
   "metadata": {},
   "outputs": [],
   "source": [
    "def upload_state_dict():\n",
    "    pass"
   ]
  },
  {
   "cell_type": "code",
   "execution_count": null,
   "metadata": {},
   "outputs": [],
   "source": [
    "def restore_state_dict():\n",
    "    pass"
   ]
  },
  {
   "cell_type": "code",
   "execution_count": null,
   "metadata": {},
   "outputs": [],
   "source": [
    "def upload_state_dict_dev():\n",
    "    pass"
   ]
  },
  {
   "cell_type": "code",
   "execution_count": null,
   "metadata": {},
   "outputs": [],
   "source": [
    "def restore_state_dict_dev():\n",
    "    pass"
   ]
  },
  {
   "cell_type": "code",
   "execution_count": null,
   "metadata": {},
   "outputs": [],
   "source": []
  },
  {
   "cell_type": "code",
   "execution_count": null,
   "metadata": {},
   "outputs": [],
   "source": []
  },
  {
   "cell_type": "code",
   "execution_count": null,
   "metadata": {},
   "outputs": [],
   "source": []
  },
  {
   "cell_type": "code",
   "execution_count": null,
   "metadata": {},
   "outputs": [],
   "source": []
  },
  {
   "cell_type": "code",
   "execution_count": 17,
   "metadata": {},
   "outputs": [],
   "source": [
    "# Check Dataset\n",
    "# Segmentation"
   ]
  },
  {
   "cell_type": "code",
   "execution_count": 18,
   "metadata": {},
   "outputs": [
    {
     "name": "stdout",
     "output_type": "stream",
     "text": [
      "human_files: 13233 file(s)\n",
      "dog_files  : 8351 file(s)\n"
     ]
    }
   ],
   "source": [
    "# Import Dataset\n",
    "\n",
    "# import numpy as np\n",
    "# from glob import glob\n",
    "\n",
    "# Setup data dir for human and dog images\n",
    "# format: '/*/**'\n",
    "human_data_dir = '/data/lfw'\n",
    "dog_data_dir = '/data/dog_images'\n",
    "\n",
    "# Load filenames for human and dog images\n",
    "human_files = np.array(glob(f'{human_data_dir}/*/*'))\n",
    "dog_files = np.array(glob(f'{dog_data_dir}/*/*/*'))\n",
    "\n",
    "# Count files\n",
    "print(f'human_files: {len(human_files)} file(s)')\n",
    "print(f'dog_files  : {len(dog_files)} file(s)')"
   ]
  },
  {
   "cell_type": "code",
   "execution_count": 19,
   "metadata": {},
   "outputs": [
    {
     "name": "stdout",
     "output_type": "stream",
     "text": [
      "[_] Data Path: /data/lfw\n",
      "    Num. of labels: 5749\n"
     ]
    },
    {
     "data": {
      "text/plain": [
       "5749"
      ]
     },
     "execution_count": 19,
     "metadata": {},
     "output_type": "execute_result"
    }
   ],
   "source": [
    "# Check data: Human\n",
    "count_label(human_data_dir, is_msg_on=True)"
   ]
  },
  {
   "cell_type": "code",
   "execution_count": 20,
   "metadata": {},
   "outputs": [
    {
     "name": "stdout",
     "output_type": "stream",
     "text": [
      "Sub directory list of the path: ['train', 'test', 'valid']\n",
      "[v] Good to go. All the labels are same!\n",
      "    Data Path: /data/dog_images\n",
      "    Num. of sub dirs: 3\n",
      "    Num. of labels: 133\n"
     ]
    },
    {
     "data": {
      "text/plain": [
       "(True, 133)"
      ]
     },
     "execution_count": 20,
     "metadata": {},
     "output_type": "execute_result"
    }
   ],
   "source": [
    "# Check data: Dog\n",
    "check_is_same_label_w_sub(dog_data_dir, is_msg_on=True)"
   ]
  },
  {
   "cell_type": "markdown",
   "metadata": {},
   "source": [
    "___________________________________________"
   ]
  },
  {
   "cell_type": "code",
   "execution_count": 56,
   "metadata": {},
   "outputs": [
    {
     "name": "stdout",
     "output_type": "stream",
     "text": [
      "{'George W Bush': 530, 'Colin Powell': 236, 'Tony Blair': 144, 'Donald Rumsfeld': 121, 'Gerhard Schroeder': 109}\n",
      "{'Lee Yuan-tseh': 1, 'Ringo Starr': 1, 'Giulio Andreotti': 1, 'Jim Flaherty': 1, 'Stacey Yamaguchi': 1}\n"
     ]
    }
   ],
   "source": [
    "human_count_dict = creat_count_dict(human_files, spliter='/', spliter_idx=3)\n",
    "human_count_dict_sorted = sort_dict(human_count_dict, sorted_by='value' ,reverse=True, replace_key=True)\n",
    "\n",
    "_check = human_count_dict_sorted\n",
    "print(dict(itertools.islice(_check.items(), 5)))\n",
    "print(dict(itertools.islice(_check.items(), len(_check)-5, len(_check))))\n",
    "del _check"
   ]
  },
  {
   "cell_type": "code",
   "execution_count": 60,
   "metadata": {},
   "outputs": [
    {
     "name": "stdout",
     "output_type": "stream",
     "text": [
      "{'005.Alaskan malamute': 96, '029.Border collie': 93, '015.Basset hound': 92, '057.Dalmatian': 89, '039.Bull terrier': 87}\n",
      "{'131.Wirehaired pointing griffon': 37, '102.Manchester terrier': 36, '121.Plott': 35, '108.Norwegian buhund': 33, '132.Xoloitzcuintli': 33}\n"
     ]
    }
   ],
   "source": [
    "dog_count_dict = creat_count_dict(dog_files, spliter='/', spliter_idx=4)\n",
    "dog_count_dict_sorted = sort_dict(dog_count_dict, sorted_by='value' ,reverse=True, replace_key=True)\n",
    "\n",
    "_check = dog_count_dict_sorted\n",
    "print(dict(itertools.islice(_check.items(), 5)))\n",
    "print(dict(itertools.islice(_check.items(), len(_check)-5, len(_check))))\n",
    "del _check"
   ]
  },
  {
   "cell_type": "code",
   "execution_count": null,
   "metadata": {},
   "outputs": [],
   "source": []
  },
  {
   "cell_type": "code",
   "execution_count": null,
   "metadata": {},
   "outputs": [],
   "source": []
  },
  {
   "cell_type": "code",
   "execution_count": null,
   "metadata": {},
   "outputs": [],
   "source": []
  },
  {
   "cell_type": "code",
   "execution_count": null,
   "metadata": {},
   "outputs": [],
   "source": []
  },
  {
   "cell_type": "code",
   "execution_count": null,
   "metadata": {},
   "outputs": [],
   "source": []
  },
  {
   "cell_type": "code",
   "execution_count": null,
   "metadata": {},
   "outputs": [],
   "source": [
    "# re: ^\\/[^\\/]+\\/[^\\/]+\\/[^\\/]+"
   ]
  },
  {
   "cell_type": "code",
   "execution_count": null,
   "metadata": {},
   "outputs": [],
   "source": [
    "human_files[0]"
   ]
  },
  {
   "cell_type": "code",
   "execution_count": null,
   "metadata": {},
   "outputs": [],
   "source": [
    "remove_prefix(human_files[0], {human_data_dir}/)"
   ]
  },
  {
   "cell_type": "code",
   "execution_count": null,
   "metadata": {},
   "outputs": [],
   "source": [
    "human_files[0].split('/')[3]"
   ]
  },
  {
   "cell_type": "code",
   "execution_count": null,
   "metadata": {},
   "outputs": [],
   "source": [
    "human_files"
   ]
  },
  {
   "cell_type": "code",
   "execution_count": null,
   "metadata": {},
   "outputs": [],
   "source": [
    "count_dict"
   ]
  },
  {
   "cell_type": "code",
   "execution_count": null,
   "metadata": {},
   "outputs": [],
   "source": [
    "count_dic = {}\n",
    "for item in human_files:\n",
    "    _key = item.split('/')[3]\n",
    "    if _key in count_dic.keys():\n",
    "        count_dic[_key] += 1\n",
    "    else:\n",
    "        count_dic[_key] = 1\n",
    "\n",
    "count_dic_s_key = {k.replace('_', ' '): v for k, v in sorted(count_dic.items(), key=lambda item: item[0])}\n",
    "count_dic_s_val = {k.replace('_', ' '): v for k, v in sorted(count_dic.items(), key=lambda item: item[1], reverse=True)}\n",
    "# count_dic_s_key\n",
    "count_dic_s_val"
   ]
  },
  {
   "cell_type": "code",
   "execution_count": null,
   "metadata": {},
   "outputs": [],
   "source": [
    "path = '/data/dog_images'\n",
    "sub_dir_list = []\n",
    "for sub_path in glob(f'{path}/*', recursive=True):\n",
    "    print(sub_path[len(path):])"
   ]
  },
  {
   "cell_type": "code",
   "execution_count": null,
   "metadata": {},
   "outputs": [],
   "source": [
    "sub_dir_list = craete_sub_dir_list(path)\n",
    "sub_dir_list"
   ]
  },
  {
   "cell_type": "code",
   "execution_count": null,
   "metadata": {},
   "outputs": [],
   "source": [
    "temp_list = {1:[1,2,3], 2:[3,2,3], 4:[3,4,2]}\n",
    "temp_len = [len(x) for x in temp_list.values()]\n",
    "# all_equal(iter(temp_list.values()))\n",
    "# temp_len\n",
    "\n",
    "find_intersection(temp_list)"
   ]
  },
  {
   "cell_type": "code",
   "execution_count": null,
   "metadata": {},
   "outputs": [],
   "source": [
    "(all_equal(iter(label_size_list))"
   ]
  },
  {
   "cell_type": "code",
   "execution_count": null,
   "metadata": {},
   "outputs": [],
   "source": [
    "all_equal(iter(list({1:1, 2:3, 4:2}.values())))"
   ]
  },
  {
   "cell_type": "code",
   "execution_count": null,
   "metadata": {},
   "outputs": [],
   "source": [
    "list(zip(temp_list.keys(), temp_len))"
   ]
  },
  {
   "cell_type": "code",
   "execution_count": null,
   "metadata": {},
   "outputs": [],
   "source": [
    "for path in glob(f'{dog_data_dir}/*', recursive=True):\n",
    "    if path.startswith(dog_data_dir):\n",
    "        print(path[len(dog_data_dir):])"
   ]
  },
  {
   "cell_type": "code",
   "execution_count": null,
   "metadata": {},
   "outputs": [],
   "source": [
    "class_names = [item[4:].replace(\"_\", \" \") for item in image_datasets['train'].classes]"
   ]
  },
  {
   "cell_type": "code",
   "execution_count": null,
   "metadata": {},
   "outputs": [],
   "source": []
  },
  {
   "cell_type": "code",
   "execution_count": null,
   "metadata": {},
   "outputs": [],
   "source": []
  },
  {
   "cell_type": "code",
   "execution_count": null,
   "metadata": {},
   "outputs": [],
   "source": [
    "# Setting from the dataset\n",
    "# output size"
   ]
  },
  {
   "cell_type": "code",
   "execution_count": null,
   "metadata": {},
   "outputs": [],
   "source": []
  },
  {
   "cell_type": "code",
   "execution_count": null,
   "metadata": {},
   "outputs": [],
   "source": []
  },
  {
   "cell_type": "code",
   "execution_count": null,
   "metadata": {},
   "outputs": [],
   "source": []
  },
  {
   "cell_type": "code",
   "execution_count": null,
   "metadata": {},
   "outputs": [],
   "source": []
  },
  {
   "cell_type": "code",
   "execution_count": null,
   "metadata": {},
   "outputs": [],
   "source": []
  },
  {
   "cell_type": "code",
   "execution_count": null,
   "metadata": {},
   "outputs": [],
   "source": []
  },
  {
   "cell_type": "code",
   "execution_count": null,
   "metadata": {},
   "outputs": [],
   "source": []
  },
  {
   "cell_type": "code",
   "execution_count": null,
   "metadata": {},
   "outputs": [],
   "source": []
  },
  {
   "cell_type": "code",
   "execution_count": null,
   "metadata": {},
   "outputs": [],
   "source": []
  },
  {
   "cell_type": "code",
   "execution_count": null,
   "metadata": {},
   "outputs": [],
   "source": []
  },
  {
   "cell_type": "code",
   "execution_count": null,
   "metadata": {},
   "outputs": [],
   "source": []
  },
  {
   "cell_type": "code",
   "execution_count": null,
   "metadata": {},
   "outputs": [],
   "source": []
  },
  {
   "cell_type": "code",
   "execution_count": null,
   "metadata": {},
   "outputs": [],
   "source": []
  },
  {
   "cell_type": "code",
   "execution_count": null,
   "metadata": {},
   "outputs": [],
   "source": []
  },
  {
   "cell_type": "code",
   "execution_count": null,
   "metadata": {},
   "outputs": [],
   "source": []
  },
  {
   "cell_type": "code",
   "execution_count": null,
   "metadata": {},
   "outputs": [],
   "source": []
  },
  {
   "cell_type": "code",
   "execution_count": null,
   "metadata": {},
   "outputs": [],
   "source": []
  },
  {
   "cell_type": "code",
   "execution_count": null,
   "metadata": {},
   "outputs": [],
   "source": []
  },
  {
   "cell_type": "code",
   "execution_count": null,
   "metadata": {},
   "outputs": [],
   "source": []
  },
  {
   "cell_type": "markdown",
   "metadata": {},
   "source": [
    "# Convolutional Neural Networks\n",
    "\n",
    "## Project: Write an Algorithm for a Dog Identification App \n",
    "\n",
    "---\n",
    "\n",
    "In this notebook, some template code has already been provided for you, and you will need to implement additional functionality to successfully complete this project. You will not need to modify the included code beyond what is requested. Sections that begin with **'(IMPLEMENTATION)'** in the header indicate that the following block of code will require additional functionality which you must provide. Instructions will be provided for each section, and the specifics of the implementation are marked in the code block with a 'TODO' statement. Please be sure to read the instructions carefully! \n",
    "\n",
    "> **Note**: Once you have completed all of the code implementations, you need to finalize your work by exporting the Jupyter Notebook as an HTML document. Before exporting the notebook to html, all of the code cells need to have been run so that reviewers can see the final implementation and output. You can then export the notebook by using the menu above and navigating to **File -> Download as -> HTML (.html)**. Include the finished document along with this notebook as your submission.\n",
    "\n",
    "In addition to implementing code, there will be questions that you must answer which relate to the project and your implementation. Each section where you will answer a question is preceded by a **'Question X'** header. Carefully read each question and provide thorough answers in the following text boxes that begin with **'Answer:'**. Your project submission will be evaluated based on your answers to each of the questions and the implementation you provide.\n",
    "\n",
    ">**Note:** Code and Markdown cells can be executed using the **Shift + Enter** keyboard shortcut.  Markdown cells can be edited by double-clicking the cell to enter edit mode.\n",
    "\n",
    "The rubric contains _optional_ \"Stand Out Suggestions\" for enhancing the project beyond the minimum requirements. If you decide to pursue the \"Stand Out Suggestions\", you should include the code in this Jupyter notebook.\n",
    "\n",
    "\n",
    "\n",
    "---\n",
    "### Why We're Here \n",
    "\n",
    "In this notebook, you will make the first steps towards developing an algorithm that could be used as part of a mobile or web app.  At the end of this project, your code will accept any user-supplied image as input.  If a dog is detected in the image, it will provide an estimate of the dog's breed.  If a human is detected, it will provide an estimate of the dog breed that is most resembling.  The image below displays potential sample output of your finished project (... but we expect that each student's algorithm will behave differently!). \n",
    "\n",
    "![Sample Dog Output](images/sample_dog_output.png)\n",
    "\n",
    "In this real-world setting, you will need to piece together a series of models to perform different tasks; for instance, the algorithm that detects humans in an image will be different from the CNN that infers dog breed.  There are many points of possible failure, and no perfect algorithm exists.  Your imperfect solution will nonetheless create a fun user experience!\n",
    "\n",
    "### The Road Ahead\n",
    "\n",
    "We break the notebook into separate steps.  Feel free to use the links below to navigate the notebook.\n",
    "\n",
    "* [Step 0](#step0): Import Datasets\n",
    "* [Step 1](#step1): Detect Humans\n",
    "* [Step 2](#step2): Detect Dogs\n",
    "* [Step 3](#step3): Create a CNN to Classify Dog Breeds (from Scratch)\n",
    "* [Step 4](#step4): Create a CNN to Classify Dog Breeds (using Transfer Learning)\n",
    "* [Step 5](#step5): Write your Algorithm\n",
    "* [Step 6](#step6): Test Your Algorithm\n",
    "\n",
    "---\n",
    "<a id='step0'></a>\n",
    "## Step 0: Import Datasets\n",
    "\n",
    "Make sure that you've downloaded the required human and dog datasets:\n",
    "\n",
    "**Note: if you are using the Udacity workspace, you *DO NOT* need to re-download these - they can be found in the `/data` folder as noted in the cell below.**\n",
    "\n",
    "* Download the [dog dataset](https://s3-us-west-1.amazonaws.com/udacity-aind/dog-project/dogImages.zip).  Unzip the folder and place it in this project's home directory, at the location `/dog_images`. \n",
    "\n",
    "* Download the [human dataset](https://s3-us-west-1.amazonaws.com/udacity-aind/dog-project/lfw.zip).  Unzip the folder and place it in the home directory, at location `/lfw`.  \n",
    "\n",
    "*Note: If you are using a Windows machine, you are encouraged to use [7zip](http://www.7-zip.org/) to extract the folder.*\n",
    "\n",
    "In the code cell below, we save the file paths for both the human (LFW) dataset and dog dataset in the numpy arrays `human_files` and `dog_files`."
   ]
  },
  {
   "cell_type": "code",
   "execution_count": null,
   "metadata": {},
   "outputs": [],
   "source": [
    "import numpy as np\n",
    "from glob import glob\n",
    "\n",
    "# load filenames for human and dog images\n",
    "human_files = np.array(glob(\"/data/lfw/*/*\"))\n",
    "dog_files = np.array(glob(\"/data/dog_images/*/*/*\"))\n",
    "\n",
    "# print number of images in each dataset\n",
    "print('There are %d total human images.' % len(human_files))\n",
    "print('There are %d total dog images.' % len(dog_files))"
   ]
  },
  {
   "cell_type": "markdown",
   "metadata": {},
   "source": [
    "<a id='step1'></a>\n",
    "## Step 1: Detect Humans\n",
    "\n",
    "In this section, we use OpenCV's implementation of [Haar feature-based cascade classifiers](http://docs.opencv.org/trunk/d7/d8b/tutorial_py_face_detection.html) to detect human faces in images.  \n",
    "\n",
    "OpenCV provides many pre-trained face detectors, stored as XML files on [github](https://github.com/opencv/opencv/tree/master/data/haarcascades).  We have downloaded one of these detectors and stored it in the `haarcascades` directory.  In the next code cell, we demonstrate how to use this detector to find human faces in a sample image."
   ]
  },
  {
   "cell_type": "code",
   "execution_count": null,
   "metadata": {},
   "outputs": [],
   "source": [
    "import cv2                \n",
    "import matplotlib.pyplot as plt                        \n",
    "%matplotlib inline                               \n",
    "\n",
    "# extract pre-trained face detector\n",
    "face_cascade = cv2.CascadeClassifier('haarcascades/haarcascade_frontalface_alt.xml')\n",
    "\n",
    "# load color (BGR) image\n",
    "img = cv2.imread(human_files[0])\n",
    "# convert BGR image to grayscale\n",
    "gray = cv2.cvtColor(img, cv2.COLOR_BGR2GRAY)\n",
    "\n",
    "# find faces in image\n",
    "faces = face_cascade.detectMultiScale(gray)\n",
    "\n",
    "# print number of faces detected in the image\n",
    "print('Number of faces detected:', len(faces))\n",
    "\n",
    "# get bounding box for each detected face\n",
    "for (x,y,w,h) in faces:\n",
    "    # add bounding box to color image\n",
    "    cv2.rectangle(img,(x,y),(x+w,y+h),(255,0,0),2)\n",
    "    \n",
    "# convert BGR image to RGB for plotting\n",
    "cv_rgb = cv2.cvtColor(img, cv2.COLOR_BGR2RGB)\n",
    "\n",
    "# display the image, along with bounding box\n",
    "plt.imshow(cv_rgb)\n",
    "plt.show()"
   ]
  },
  {
   "cell_type": "markdown",
   "metadata": {},
   "source": [
    "Before using any of the face detectors, it is standard procedure to convert the images to grayscale.  The `detectMultiScale` function executes the classifier stored in `face_cascade` and takes the grayscale image as a parameter.  \n",
    "\n",
    "In the above code, `faces` is a numpy array of detected faces, where each row corresponds to a detected face.  Each detected face is a 1D array with four entries that specifies the bounding box of the detected face.  The first two entries in the array (extracted in the above code as `x` and `y`) specify the horizontal and vertical positions of the top left corner of the bounding box.  The last two entries in the array (extracted here as `w` and `h`) specify the width and height of the box.\n",
    "\n",
    "### Write a Human Face Detector\n",
    "\n",
    "We can use this procedure to write a function that returns `True` if a human face is detected in an image and `False` otherwise.  This function, aptly named `face_detector`, takes a string-valued file path to an image as input and appears in the code block below."
   ]
  },
  {
   "cell_type": "code",
   "execution_count": null,
   "metadata": {},
   "outputs": [],
   "source": [
    "# returns \"True\" if face is detected in image stored at img_path\n",
    "def face_detector(img_path):\n",
    "    img = cv2.imread(img_path)\n",
    "    gray = cv2.cvtColor(img, cv2.COLOR_BGR2GRAY)\n",
    "    faces = face_cascade.detectMultiScale(gray)\n",
    "    return len(faces) > 0"
   ]
  },
  {
   "cell_type": "markdown",
   "metadata": {},
   "source": [
    "### (IMPLEMENTATION) Assess the Human Face Detector\n",
    "\n",
    "__Question 1:__ Use the code cell below to test the performance of the `face_detector` function.  \n",
    "- What percentage of the first 100 images in `human_files` have a detected human face?  \n",
    "- What percentage of the first 100 images in `dog_files` have a detected human face? \n",
    "\n",
    "Ideally, we would like 100% of human images with a detected face and 0% of dog images with a detected face.  You will see that our algorithm falls short of this goal, but still gives acceptable performance.  We extract the file paths for the first 100 images from each of the datasets and store them in the numpy arrays `human_files_short` and `dog_files_short`."
   ]
  },
  {
   "cell_type": "markdown",
   "metadata": {},
   "source": [
    "__Answer:__ \n",
    "(You can print out your results and/or write your percentages in this cell)"
   ]
  },
  {
   "cell_type": "code",
   "execution_count": null,
   "metadata": {},
   "outputs": [],
   "source": [
    "def namestr(obj, namespace):\n",
    "    # namespace: globals(): name of input\n",
    "    #            locals() : obj\n",
    "    return [name for name in namespace if namespace[name] is obj][0]"
   ]
  },
  {
   "cell_type": "code",
   "execution_count": null,
   "metadata": {},
   "outputs": [],
   "source": [
    "from tqdm import tqdm\n",
    "\n",
    "human_files_short = human_files[:100]\n",
    "dog_files_short = dog_files[:100]\n",
    "\n",
    "#-#-# Do NOT modify the code above this line. #-#-#\n",
    "\n",
    "## TODO: Test the performance of the face_detector algorithm \n",
    "## on the images in human_files_short and dog_files_short.\n",
    "\n",
    "def face_detector_test(img_files):\n",
    "    num_files = len(img_files)\n",
    "    \n",
    "    print(f'\\nStart face detector testing {namestr(img_files, globals())}...')\n",
    "    print(f'\\nNum. of files: {num_files}')\n",
    "    \n",
    "    count = 0\n",
    "    for f in img_files:\n",
    "        if face_detector(f):\n",
    "            count += 1\n",
    "    ratio = count / num_files\n",
    "    \n",
    "    print(f'\\nNum. of face detected: {count}')\n",
    "    print(f'\\nDetected percent: {round(ratio, 4)*100}%')\n",
    "    print(f'\\nEnd testing {namestr(img_files, globals())}. ^-^')\n",
    "    \n",
    "    return round(ratio, 4)"
   ]
  },
  {
   "cell_type": "code",
   "execution_count": null,
   "metadata": {},
   "outputs": [],
   "source": [
    "face_detector_test(human_files_short)"
   ]
  },
  {
   "cell_type": "code",
   "execution_count": null,
   "metadata": {},
   "outputs": [],
   "source": [
    "face_detector_test(dog_files_short)"
   ]
  },
  {
   "cell_type": "markdown",
   "metadata": {},
   "source": [
    "We suggest the face detector from OpenCV as a potential way to detect human images in your algorithm, but you are free to explore other approaches, especially approaches that make use of deep learning :).  Please use the code cell below to design and test your own face detection algorithm.  If you decide to pursue this _optional_ task, report performance on `human_files_short` and `dog_files_short`."
   ]
  },
  {
   "cell_type": "code",
   "execution_count": null,
   "metadata": {},
   "outputs": [],
   "source": [
    "### (Optional) \n",
    "### TODO: Test performance of anotherface detection algorithm.\n",
    "### Feel free to use as many code cells as needed."
   ]
  },
  {
   "cell_type": "markdown",
   "metadata": {},
   "source": [
    "---\n",
    "<a id='step2'></a>\n",
    "## Step 2: Detect Dogs\n",
    "\n",
    "In this section, we use a [pre-trained model](http://pytorch.org/docs/master/torchvision/models.html) to detect dogs in images.  \n",
    "\n",
    "### Obtain Pre-trained VGG-16 Model\n",
    "\n",
    "The code cell below downloads the VGG-16 model, along with weights that have been trained on [ImageNet](http://www.image-net.org/), a very large, very popular dataset used for image classification and other vision tasks.  ImageNet contains over 10 million URLs, each linking to an image containing an object from one of [1000 categories](https://gist.github.com/yrevar/942d3a0ac09ec9e5eb3a).  "
   ]
  },
  {
   "cell_type": "code",
   "execution_count": null,
   "metadata": {},
   "outputs": [],
   "source": [
    "import torch\n",
    "import torchvision.models as models\n",
    "\n",
    "# define VGG16 model\n",
    "VGG16 = models.vgg16(pretrained=True)\n",
    "\n",
    "# check if CUDA is available\n",
    "use_cuda = torch.cuda.is_available()\n",
    "\n",
    "# move model to GPU if CUDA is available\n",
    "if use_cuda:\n",
    "    VGG16 = VGG16.cuda()"
   ]
  },
  {
   "cell_type": "markdown",
   "metadata": {},
   "source": [
    "Given an image, this pre-trained VGG-16 model returns a prediction (derived from the 1000 possible categories in ImageNet) for the object that is contained in the image."
   ]
  },
  {
   "cell_type": "markdown",
   "metadata": {},
   "source": [
    "### (IMPLEMENTATION) Making Predictions with a Pre-trained Model\n",
    "\n",
    "In the next code cell, you will write a function that accepts a path to an image (such as `'dogImages/train/001.Affenpinscher/Affenpinscher_00001.jpg'`) as input and returns the index corresponding to the ImageNet class that is predicted by the pre-trained VGG-16 model.  The output should always be an integer between 0 and 999, inclusive.\n",
    "\n",
    "Before writing the function, make sure that you take the time to learn  how to appropriately pre-process tensors for pre-trained models in the [PyTorch documentation](http://pytorch.org/docs/stable/torchvision/models.html)."
   ]
  },
  {
   "cell_type": "code",
   "execution_count": null,
   "metadata": {},
   "outputs": [],
   "source": [
    "from PIL import ImageFile\n",
    "ImageFile.LOAD_TRUNCATED_IMAGES = True"
   ]
  },
  {
   "cell_type": "code",
   "execution_count": null,
   "metadata": {},
   "outputs": [],
   "source": [
    "from PIL import Image\n",
    "import torchvision.transforms as transforms\n",
    "\n",
    "def VGG16_predict(img_path):\n",
    "    '''\n",
    "    Use pre-trained VGG-16 model to obtain index corresponding to \n",
    "    predicted ImageNet class for image at specified path\n",
    "    \n",
    "    Args:\n",
    "        img_path: path to an image\n",
    "        \n",
    "    Returns:\n",
    "        Index corresponding to VGG-16 model's prediction\n",
    "    '''\n",
    "    \n",
    "    ## TODO: Complete the function.\n",
    "    ## Load and pre-process an image from the given img_path\n",
    "    ## Return the *index* of the predicted class for that image\n",
    "    \n",
    "    # PIL img\n",
    "    img = Image.open(img_path)\n",
    "    \n",
    "    # Compose Set\n",
    "    compose_set = [transforms.RandomResizedCrop(224),\n",
    "                   transforms.ToTensor()]\n",
    "    \n",
    "    # Apply compose setting\n",
    "    transform = transforms.Compose(compose_set)\n",
    "    \n",
    "    # Apply transform including ToTensor and unsqueeze\n",
    "    img_tensor = transform(img).unsqueeze(0) \n",
    "    \n",
    "    if torch.cuda.is_available():\n",
    "        img_tensor = img_tensor.cuda()\n",
    "    \n",
    "    # Apply model(VGG16)\n",
    "    predict = VGG16(img_tensor)\n",
    "    \n",
    "    # Tensor.cpu() to copy the tensor to host memory\n",
    "    if torch.cuda.is_available():\n",
    "        predict = predict.cpu()\n",
    "    \n",
    "    # Argmax to get index of the maximum value(among predicted classes)\n",
    "    index = predict.data.numpy().argmax()\n",
    "\n",
    "    return index # predicted class index"
   ]
  },
  {
   "cell_type": "code",
   "execution_count": null,
   "metadata": {},
   "outputs": [],
   "source": [
    "import os\n",
    "os.getcwd()"
   ]
  },
  {
   "cell_type": "code",
   "execution_count": null,
   "metadata": {},
   "outputs": [],
   "source": [
    "os.listdir(os.curdir)"
   ]
  },
  {
   "cell_type": "code",
   "execution_count": null,
   "metadata": {},
   "outputs": [],
   "source": [
    "VGG16_predict('images/American_water_spaniel_00648.jpg')"
   ]
  },
  {
   "cell_type": "markdown",
   "metadata": {},
   "source": [
    "### (IMPLEMENTATION) Write a Dog Detector\n",
    "\n",
    "While looking at the [dictionary](https://gist.github.com/yrevar/942d3a0ac09ec9e5eb3a), you will notice that the categories corresponding to dogs appear in an uninterrupted sequence and correspond to dictionary keys 151-268, inclusive, to include all categories from `'Chihuahua'` to `'Mexican hairless'`.  Thus, in order to check to see if an image is predicted to contain a dog by the pre-trained VGG-16 model, we need only check if the pre-trained model predicts an index between 151 and 268 (inclusive).\n",
    "\n",
    "Use these ideas to complete the `dog_detector` function below, which returns `True` if a dog is detected in an image (and `False` if not)."
   ]
  },
  {
   "cell_type": "code",
   "execution_count": null,
   "metadata": {},
   "outputs": [],
   "source": [
    "### returns \"True\" if a dog is detected in the image stored at img_path\n",
    "def dog_detector(img_path):\n",
    "    ## TODO: Complete the function.\n",
    "    index = VGG16_predict(img_path)\n",
    "    \n",
    "    is_inclusive = (151 <= index) & (index <= 268) # true/false\n",
    "    return is_inclusive"
   ]
  },
  {
   "cell_type": "code",
   "execution_count": null,
   "metadata": {},
   "outputs": [],
   "source": [
    "dog_detector('images/Curly-coated_retriever_03896.jpg')"
   ]
  },
  {
   "cell_type": "markdown",
   "metadata": {},
   "source": [
    "### (IMPLEMENTATION) Assess the Dog Detector\n",
    "\n",
    "__Question 2:__ Use the code cell below to test the performance of your `dog_detector` function.  \n",
    "- What percentage of the images in `human_files_short` have a detected dog?  \n",
    "- What percentage of the images in `dog_files_short` have a detected dog?"
   ]
  },
  {
   "cell_type": "markdown",
   "metadata": {},
   "source": [
    "__Answer:__ \n",
    "- What percentage of the images in human_files_short have a detected dog?\n",
    "    - 0.0%\n",
    "- What percentage of the images in dog_files_short have a detected dog?\n",
    "    - 80.0%"
   ]
  },
  {
   "cell_type": "code",
   "execution_count": null,
   "metadata": {},
   "outputs": [],
   "source": [
    "### TODO: Test the performance of the dog_detector function\n",
    "### on the images in human_files_short and dog_files_short.\n",
    "\n",
    "def dog_detector_test(img_files):\n",
    "    num_files = len(img_files)\n",
    "    \n",
    "    print(f'\\nStart dog detector testing {namestr(img_files, globals())}...')\n",
    "    print(f'\\nNum. of files: {num_files}')\n",
    "    \n",
    "    count = 0\n",
    "    for f in img_files:\n",
    "        if dog_detector(f):\n",
    "            count += 1\n",
    "    ratio = count / num_files\n",
    "    \n",
    "    print(f'\\nNum. of face detected: {count}')\n",
    "    print(f'\\nDetected percent: {round(ratio, 4)*100}%')\n",
    "    print(f'\\nEnd testing {namestr(img_files, globals())}. ^-^')\n",
    "    \n",
    "    return round(ratio, 4)"
   ]
  },
  {
   "cell_type": "code",
   "execution_count": null,
   "metadata": {},
   "outputs": [],
   "source": [
    "dog_detector_test(human_files_short)"
   ]
  },
  {
   "cell_type": "code",
   "execution_count": null,
   "metadata": {},
   "outputs": [],
   "source": [
    "dog_detector_test(dog_files_short)"
   ]
  },
  {
   "cell_type": "markdown",
   "metadata": {},
   "source": [
    "We suggest VGG-16 as a potential network to detect dog images in your algorithm, but you are free to explore other pre-trained networks (such as [Inception-v3](http://pytorch.org/docs/master/torchvision/models.html#inception-v3), [ResNet-50](http://pytorch.org/docs/master/torchvision/models.html#id3), etc).  Please use the code cell below to test other pre-trained PyTorch models.  If you decide to pursue this _optional_ task, report performance on `human_files_short` and `dog_files_short`."
   ]
  },
  {
   "cell_type": "code",
   "execution_count": null,
   "metadata": {},
   "outputs": [],
   "source": [
    "### (Optional) \n",
    "### TODO: Report the performance of another pre-trained network.\n",
    "### Feel free to use as many code cells as needed."
   ]
  },
  {
   "cell_type": "markdown",
   "metadata": {},
   "source": [
    "---\n",
    "<a id='step3'></a>\n",
    "## Step 3: Create a CNN to Classify Dog Breeds (from Scratch)\n",
    "\n",
    "Now that we have functions for detecting humans and dogs in images, we need a way to predict breed from images.  In this step, you will create a CNN that classifies dog breeds.  You must create your CNN _from scratch_ (so, you can't use transfer learning _yet_!), and you must attain a test accuracy of at least 10%.  In Step 4 of this notebook, you will have the opportunity to use transfer learning to create a CNN that attains greatly improved accuracy.\n",
    "\n",
    "We mention that the task of assigning breed to dogs from images is considered exceptionally challenging.  To see why, consider that *even a human* would have trouble distinguishing between a Brittany and a Welsh Springer Spaniel.  \n",
    "\n",
    "Brittany | Welsh Springer Spaniel\n",
    "- | - \n",
    "<img src=\"images/Brittany_02625.jpg\" width=\"100\"> | <img src=\"images/Welsh_springer_spaniel_08203.jpg\" width=\"200\">\n",
    "\n",
    "It is not difficult to find other dog breed pairs with minimal inter-class variation (for instance, Curly-Coated Retrievers and American Water Spaniels).  \n",
    "\n",
    "Curly-Coated Retriever | American Water Spaniel\n",
    "- | -\n",
    "<img src=\"images/Curly-coated_retriever_03896.jpg\" width=\"200\"> | <img src=\"images/American_water_spaniel_00648.jpg\" width=\"200\">\n",
    "\n",
    "\n",
    "Likewise, recall that labradors come in yellow, chocolate, and black.  Your vision-based algorithm will have to conquer this high intra-class variation to determine how to classify all of these different shades as the same breed.  \n",
    "\n",
    "Yellow Labrador | Chocolate Labrador | Black Labrador\n",
    "- | -\n",
    "<img src=\"images/Labrador_retriever_06457.jpg\" width=\"150\"> | <img src=\"images/Labrador_retriever_06455.jpg\" width=\"240\"> | <img src=\"images/Labrador_retriever_06449.jpg\" width=\"220\">\n",
    "\n",
    "We also mention that random chance presents an exceptionally low bar: setting aside the fact that the classes are slightly imabalanced, a random guess will provide a correct answer roughly 1 in 133 times, which corresponds to an accuracy of less than 1%.  \n",
    "\n",
    "Remember that the practice is far ahead of the theory in deep learning.  Experiment with many different architectures, and trust your intuition.  And, of course, have fun!\n",
    "\n",
    "### (IMPLEMENTATION) Specify Data Loaders for the Dog Dataset\n",
    "\n",
    "Use the code cell below to write three separate [data loaders](http://pytorch.org/docs/stable/data.html#torch.utils.data.DataLoader) for the training, validation, and test datasets of dog images (located at `dog_images/train`, `dog_images/valid`, and `dog_images/test`, respectively).  You may find [this documentation on custom datasets](http://pytorch.org/docs/stable/torchvision/datasets.html) to be a useful resource.  If you are interested in augmenting your training and/or validation data, check out the wide variety of [transforms](http://pytorch.org/docs/stable/torchvision/transforms.html?highlight=transform)!"
   ]
  },
  {
   "cell_type": "code",
   "execution_count": null,
   "metadata": {},
   "outputs": [],
   "source": [
    "import os\n",
    "from torchvision import datasets\n",
    "\n",
    "### TODO: Write data loaders for training, validation, and test sets\n",
    "## Specify appropriate transforms, and batch_sizes\n",
    "\n",
    "def load_data(data_dir, batch_size=[64, 16, 16]):\n",
    "    \"\"\"Load data and create sets and loaders for data.\n",
    "    \n",
    "    Argument(1):\n",
    "        data_dir -- (str) directory path of data folders.\n",
    "    \n",
    "    Return(4):    \n",
    "        dir_sets -- (dic)\n",
    "            Value: (str) directory path\n",
    "            Keys : 'train', 'valid', 'test'\n",
    "        compose_sets -- (dic)\n",
    "            Value: (list) of transforms method(s)\n",
    "            Keys : 'train', 'valid', 'test'\n",
    "        image_datasets -- (dic)\n",
    "            Value: ImageFolder method\n",
    "            Keys : 'train', 'valid', 'test'\n",
    "        dataloaders -- (dic)\n",
    "            Value: DataLoader method\n",
    "            Keys : 'train', 'valid', 'test'\n",
    "    \"\"\"\n",
    "    # Define dir_set\n",
    "    dir_sets = {}\n",
    "    dir_sets['train'] = f'{data_dir}/train'\n",
    "    dir_sets['valid'] = f'{data_dir}/valid'\n",
    "    dir_sets['test'] = f'{data_dir}/test'\n",
    "    # Define compose_set\n",
    "    compose_sets = {}\n",
    "    compose_sets['train'] = [transforms.RandomRotation(30), \n",
    "                             transforms.RandomResizedCrop(224),\n",
    "                             transforms.RandomHorizontalFlip(),\n",
    "                             transforms.ToTensor(),\n",
    "                             transforms.Normalize(mean = [0.485, 0.456, 0.406], \n",
    "                                                  std = [0.229, 0.224, 0.225])]\n",
    "    compose_sets['valid'] = [transforms.Resize(255), \n",
    "                             transforms.CenterCrop(224), \n",
    "                             transforms.ToTensor(), \n",
    "                             transforms.Normalize(mean = [0.485, 0.456, 0.406], \n",
    "                                                  std = [0.229, 0.224, 0.225])]\n",
    "    compose_sets['test'] = [transforms.Resize(255), \n",
    "                            transforms.CenterCrop(224), \n",
    "                            transforms.ToTensor(), \n",
    "                            transforms.Normalize(mean = [0.485, 0.456, 0.406], \n",
    "                                                 std = [0.229, 0.224, 0.225])]\n",
    "    # Define image_datasets\n",
    "    image_datasets = {}\n",
    "    image_datasets['train'] = datasets.ImageFolder(dir_sets['train'], \n",
    "                                                   transforms.Compose(compose_sets['train']))\n",
    "    image_datasets['valid'] = datasets.ImageFolder(dir_sets['valid'], \n",
    "                                                   transforms.Compose(compose_sets['valid']))\n",
    "    image_datasets['test'] = datasets.ImageFolder(dir_sets['test'], \n",
    "                                                  transforms.Compose(compose_sets['test']))\n",
    "    # Define dataloaders\n",
    "    dataloaders = {}\n",
    "    dataloaders['train'] = torch.utils.data.DataLoader(image_datasets['train'], \n",
    "                                                       batch_size = batch_size[0], shuffle = True)\n",
    "    dataloaders['valid'] = torch.utils.data.DataLoader(image_datasets['valid'], \n",
    "                                                       batch_size = batch_size[1], shuffle = True)\n",
    "    dataloaders['test'] = torch.utils.data.DataLoader(image_datasets['test'], \n",
    "                                                      batch_size = batch_size[2], shuffle = True)\n",
    "    \n",
    "    return dir_sets, compose_sets, image_datasets, dataloaders"
   ]
  },
  {
   "cell_type": "code",
   "execution_count": null,
   "metadata": {},
   "outputs": [],
   "source": [
    "dir_sets, compose_sets, image_datasets, dataloaders = load_data('/data/dog_images')"
   ]
  },
  {
   "cell_type": "code",
   "execution_count": null,
   "metadata": {},
   "outputs": [],
   "source": [
    "loaders_scratch = dataloaders"
   ]
  },
  {
   "cell_type": "markdown",
   "metadata": {},
   "source": [
    "**Question 3:** Describe your chosen procedure for preprocessing the data. "
   ]
  },
  {
   "cell_type": "markdown",
   "metadata": {},
   "source": [
    "**Answer**:\n",
    "\n",
    "- How does your code resize the images (by cropping, stretching, etc)?  What size did you pick for the input tensor, and why?\n",
    "\n",
    "    - Train: (1)randomly 30 degree rotation (2)randomly resizing into 224 px (3)randomly horizontal flipping\n",
    "    - Valid & Test: (1)resizing into 255 px (2)cropping 224px from center\n",
    "    - Input tensor size: 224\n",
    "    - Reason of chosing the input size: (1)To avoid over-fitting (2)common size choice for pretrained CNN model\n",
    "\n",
    "- Did you decide to augment the dataset?  If so, how (through translations, flips, rotations, etc)?  If not, why not?\n",
    "\n",
    "    - Transforming like above answer.\n",
    "    - Reason - Train: To give more randomness\n",
    "    - Reason - Valid & Test: For easier features extraction  "
   ]
  },
  {
   "cell_type": "markdown",
   "metadata": {},
   "source": [
    "### (IMPLEMENTATION) Model Architecture\n",
    "\n",
    "Create a CNN to classify dog breed.  Use the template in the code cell below."
   ]
  },
  {
   "cell_type": "code",
   "execution_count": null,
   "metadata": {},
   "outputs": [],
   "source": [
    "import torch.nn as nn\n",
    "import torch.nn.functional as F\n",
    "\n",
    "# define the CNN architecture\n",
    "class Net(nn.Module):\n",
    "    ### TODO: choose an architecture, and complete the class\n",
    "    def __init__(self):\n",
    "        super(Net, self).__init__()\n",
    "        ## Define layers of a CNN\n",
    "        \n",
    "        self.conv = nn.Sequential(nn.Conv2d(3, 16, 3, padding=1), nn.LeakyReLU(0.2),\n",
    "                                  nn.MaxPool2d(2, 2),\n",
    "                                  nn.Conv2d(16, 32, 3, padding=1), nn.LeakyReLU(0.2),\n",
    "                                  nn.MaxPool2d(2, 2),\n",
    "                                  nn.Conv2d(32, 64, 3, padding=1), nn.LeakyReLU(0.2),\n",
    "                                  nn.MaxPool2d(2, 2),\n",
    "                                  nn.Conv2d(64, 128, 3, padding=1), nn.LeakyReLU(0.2),\n",
    "                                  nn.MaxPool2d(2, 2))\n",
    "        \n",
    "        self.avg_pool = nn.AvgPool2d(14)\n",
    "        self.classifier = nn.Linear(128, 133)\n",
    "    \n",
    "    def forward(self, x):\n",
    "        features = self.conv(x)\n",
    "        x = self.avg_pool(features)\n",
    "        x = x.view(features.size(0), -1)\n",
    "        x = self.classifier(x)\n",
    "        return x\n",
    "\n",
    "#-#-# You so NOT have to modify the code below this line. #-#-#\n",
    "\n",
    "# instantiate the CNN\n",
    "model_scratch = Net()\n",
    "\n",
    "# move tensors to GPU if CUDA is available\n",
    "if use_cuda:\n",
    "    model_scratch.cuda()"
   ]
  },
  {
   "cell_type": "markdown",
   "metadata": {},
   "source": [
    "__Question 4:__ Outline the steps you took to get to your final CNN architecture and your reasoning at each step.  "
   ]
  },
  {
   "cell_type": "markdown",
   "metadata": {},
   "source": [
    "__Answer:__\n",
    "\n",
    "- Conv2d: 3 _ channel input(RGB)\n",
    "- MaxPool2d(2,2): for dimension reduction into half\n",
    "- AvgPool2d: to apply a 2D average pooling over an input signal composed of several input planes.\n",
    "- view: to allow a tensor to be a View of an existing tensor(avg_pool(features))\n",
    "- classifier: 133 _ output\n",
    "\n",
    "- To make similar architecture with VGG16.\n",
    "- But reducing layer size to avoid below error.\n",
    "    - 'cuda runtime error (2) : out of memory at /opt/conda/conda-bld/pytorch_1524584710464/work/aten/src/THC/generic/THCStorage.cu:58'"
   ]
  },
  {
   "cell_type": "markdown",
   "metadata": {},
   "source": [
    "### (IMPLEMENTATION) Specify Loss Function and Optimizer\n",
    "\n",
    "Use the next code cell to specify a [loss function](http://pytorch.org/docs/stable/nn.html#loss-functions) and [optimizer](http://pytorch.org/docs/stable/optim.html).  Save the chosen loss function as `criterion_scratch`, and the optimizer as `optimizer_scratch` below."
   ]
  },
  {
   "cell_type": "code",
   "execution_count": null,
   "metadata": {},
   "outputs": [],
   "source": [
    "import torch.optim as optim\n",
    "\n",
    "### TODO: select loss function\n",
    "criterion_scratch = nn.CrossEntropyLoss()\n",
    "\n",
    "if use_cuda:\n",
    "    criterion_scratch.cuda()\n",
    "\n",
    "### TODO: select optimizer\n",
    "optimizer_scratch = optim.Adam(model_scratch.parameters(), lr=0.01)"
   ]
  },
  {
   "cell_type": "markdown",
   "metadata": {},
   "source": [
    "### (IMPLEMENTATION) Train and Validate the Model\n",
    "\n",
    "Train and validate your model in the code cell below.  [Save the final model parameters](http://pytorch.org/docs/master/notes/serialization.html) at filepath `'model_scratch.pt'`."
   ]
  },
  {
   "cell_type": "code",
   "execution_count": null,
   "metadata": {},
   "outputs": [],
   "source": [
    "def train(n_epochs, loaders, model, optimizer, criterion, use_cuda, save_path, load_pt = True, valid_loss_min = np.Inf):\n",
    "    \"\"\"returns trained model\"\"\"\n",
    "    if load_pt & os.path.exists(save_path):\n",
    "        print('Loading previous model...')\n",
    "        model.load_state_dict(torch.load(save_path))\n",
    "        \n",
    "    print('Start training...')\n",
    "    \n",
    "    # initialize tracker for minimum validation loss\n",
    "    # valid_loss_min = np.Inf \n",
    "    \n",
    "    for epoch in range(1, n_epochs+1):\n",
    "        # initialize variables to monitor training and validation loss\n",
    "        train_loss = 0.0\n",
    "        valid_loss = 0.0\n",
    "        \n",
    "        ###################\n",
    "        # train the model #\n",
    "        ###################\n",
    "        model.train()\n",
    "        for batch_idx, (data, target) in enumerate(loaders['train']):\n",
    "            # move to GPU\n",
    "            if use_cuda:\n",
    "                data, target = data.cuda(), target.cuda()\n",
    "            ## find the loss and update the model parameters accordingly\n",
    "            ## record the average training loss, using something like\n",
    "            ## train_loss = train_loss + ((1 / (batch_idx + 1)) * (loss.data - train_loss))\n",
    "            \n",
    "            optimizer.zero_grad()\n",
    "            output = model(data)\n",
    "            loss = criterion(output, target)\n",
    "            loss.backward()\n",
    "            optimizer.step()\n",
    "            \n",
    "            train_loss += (1 / (batch_idx + 1)) * (loss.data - train_loss)\n",
    "            \n",
    "            \n",
    "        ######################    \n",
    "        # validate the model #\n",
    "        ######################\n",
    "        model.eval()\n",
    "        for batch_idx, (data, target) in enumerate(loaders['valid']):\n",
    "            # move to GPU\n",
    "            if use_cuda:\n",
    "                data, target = data.cuda(), target.cuda()\n",
    "            ## update the average validation loss\n",
    "            \n",
    "            output = model(data)\n",
    "            loss = criterion(output, target)\n",
    "            valid_loss += (1 / (batch_idx + 1)) * (loss.data - valid_loss)\n",
    "            \n",
    "        # print training/validation statistics \n",
    "        print('Epoch: {} \\tTraining Loss: {:.6f} \\tValidation Loss: {:.6f}'.format(\n",
    "            epoch, \n",
    "            train_loss,\n",
    "            valid_loss\n",
    "            ))\n",
    "        \n",
    "        ## TODO: save the model if validation loss has decreased\n",
    "        if valid_loss <= valid_loss_min:\n",
    "            print(f'\\nSaving model ...')\n",
    "            torch.save(model.state_dict(), save_path)\n",
    "            valid_loss_min = valid_loss\n",
    "            print(f'\\nModel has been saved. Minimum vaild loss has been updated.')\n",
    "    # return trained model\n",
    "    return model"
   ]
  },
  {
   "cell_type": "code",
   "execution_count": null,
   "metadata": {},
   "outputs": [],
   "source": [
    "# train the model\n",
    "model_scratch = train(10, loaders_scratch, model_scratch, optimizer_scratch, \n",
    "                      criterion_scratch, use_cuda, 'model_scratch.pt')\n",
    "\n",
    "# load the model that got the best validation accuracy\n",
    "model_scratch.load_state_dict(torch.load('model_scratch.pt'))"
   ]
  },
  {
   "cell_type": "markdown",
   "metadata": {},
   "source": [
    "### (IMPLEMENTATION) Test the Model\n",
    "\n",
    "Try out your model on the test dataset of dog images.  Use the code cell below to calculate and print the test loss and accuracy.  Ensure that your test accuracy is greater than 10%."
   ]
  },
  {
   "cell_type": "code",
   "execution_count": null,
   "metadata": {},
   "outputs": [],
   "source": [
    "def test(loaders, model, criterion, use_cuda):\n",
    "\n",
    "    # monitor test loss and accuracy\n",
    "    test_loss = 0.\n",
    "    correct = 0.\n",
    "    total = 0.\n",
    "\n",
    "    model.eval()\n",
    "    for batch_idx, (data, target) in enumerate(loaders['test']):\n",
    "        # move to GPU\n",
    "        if use_cuda:\n",
    "            data, target = data.cuda(), target.cuda()\n",
    "        # forward pass: compute predicted outputs by passing inputs to the model\n",
    "        output = model(data)\n",
    "        # calculate the loss\n",
    "        loss = criterion(output, target)\n",
    "        # update average test loss \n",
    "        test_loss = test_loss + ((1 / (batch_idx + 1)) * (loss.data - test_loss))\n",
    "        # convert output probabilities to predicted class\n",
    "        pred = output.data.max(1, keepdim=True)[1]\n",
    "        # compare predictions to true label\n",
    "        correct += np.sum(np.squeeze(pred.eq(target.data.view_as(pred))).cpu().numpy())\n",
    "        total += data.size(0)\n",
    "            \n",
    "    print('Test Loss: {:.6f}\\n'.format(test_loss))\n",
    "\n",
    "    print('\\nTest Accuracy: %2d%% (%2d/%2d)' % (\n",
    "        100. * correct / total, correct, total))"
   ]
  },
  {
   "cell_type": "code",
   "execution_count": null,
   "metadata": {},
   "outputs": [],
   "source": [
    "# call test function\n",
    "test(loaders_scratch, model_scratch, criterion_scratch, use_cuda)"
   ]
  },
  {
   "cell_type": "markdown",
   "metadata": {},
   "source": [
    "---\n",
    "<a id='step4'></a>\n",
    "## Step 4: Create a CNN to Classify Dog Breeds (using Transfer Learning)\n",
    "\n",
    "You will now use transfer learning to create a CNN that can identify dog breed from images.  Your CNN must attain at least 60% accuracy on the test set.\n",
    "\n",
    "### (IMPLEMENTATION) Specify Data Loaders for the Dog Dataset\n",
    "\n",
    "Use the code cell below to write three separate [data loaders](http://pytorch.org/docs/master/data.html#torch.utils.data.DataLoader) for the training, validation, and test datasets of dog images (located at `dogImages/train`, `dogImages/valid`, and `dogImages/test`, respectively). \n",
    "\n",
    "If you like, **you are welcome to use the same data loaders from the previous step**, when you created a CNN from scratch."
   ]
  },
  {
   "cell_type": "code",
   "execution_count": null,
   "metadata": {},
   "outputs": [],
   "source": [
    "del loaders_scratch"
   ]
  },
  {
   "cell_type": "code",
   "execution_count": null,
   "metadata": {},
   "outputs": [],
   "source": [
    "del loaders_transfer\n",
    "torch.cuda.empty_cache()"
   ]
  },
  {
   "cell_type": "code",
   "execution_count": null,
   "metadata": {},
   "outputs": [],
   "source": [
    "if 'loaders_transfer' in globals():\n",
    "    del loaders_transfer\n",
    "    \n",
    "torch.cuda.empty_cache()\n",
    "\n",
    "## TODO: Specify data loaders\n",
    "\n",
    "# Decrease batch size for memory\n",
    "dir_sets, compose_sets, image_datasets, loaders_transfer = load_data('/data/dog_images', [32,16,16])"
   ]
  },
  {
   "cell_type": "markdown",
   "metadata": {},
   "source": [
    "### (IMPLEMENTATION) Model Architecture\n",
    "\n",
    "Use transfer learning to create a CNN to classify dog breed.  Use the code cell below, and save your initialized model as the variable `model_transfer`."
   ]
  },
  {
   "cell_type": "code",
   "execution_count": null,
   "metadata": {},
   "outputs": [],
   "source": [
    "import torchvision.models as models\n",
    "import torch.nn as nn\n",
    "\n",
    "if 'model_transfer' in globals():\n",
    "    del model_transfer\n",
    "    \n",
    "torch.cuda.empty_cache()\n",
    "\n",
    "## TODO: Specify model architecture \n",
    "model_transfer = models.vgg16(pretrained=True)\n",
    "\n",
    "for param in model_transfer.parameters():\n",
    "    param.requires_grad = False\n",
    "\n",
    "model_transfer.classifier"
   ]
  },
  {
   "cell_type": "code",
   "execution_count": null,
   "metadata": {
    "scrolled": true
   },
   "outputs": [],
   "source": [
    "output_size = 133\n",
    "\n",
    "model_transfer.classifier[-1] = nn.Linear(4096, output_size, bias=True)\n",
    "\n",
    "# model_transfer.classifier[0] = nn.Linear(25088, 2048, bias=True)\n",
    "# model_transfer.classifier[3] = nn.Linear(2048, 1024, bias=True)\n",
    "# model_transfer.classifier[6] = nn.Linear(1024, output_size, bias=True)\n",
    "\n",
    "if use_cuda:\n",
    "    model_transfer = model_transfer.cuda()\n",
    "\n",
    "model_transfer.classifier"
   ]
  },
  {
   "cell_type": "markdown",
   "metadata": {},
   "source": [
    "__Question 5:__ Outline the steps you took to get to your final CNN architecture and your reasoning at each step.  Describe why you think the architecture is suitable for the current problem."
   ]
  },
  {
   "cell_type": "markdown",
   "metadata": {},
   "source": [
    "__Answer:__ \n",
    "\n",
    "- VGG16: Similar architecture with saved model (CrossEntropyLoss & Adam)\n",
    "- Reason why updating classifier: num of VGG16 output is 1000 but 133 is needed."
   ]
  },
  {
   "cell_type": "markdown",
   "metadata": {},
   "source": [
    "### (IMPLEMENTATION) Specify Loss Function and Optimizer\n",
    "\n",
    "Use the next code cell to specify a [loss function](http://pytorch.org/docs/master/nn.html#loss-functions) and [optimizer](http://pytorch.org/docs/master/optim.html).  Save the chosen loss function as `criterion_transfer`, and the optimizer as `optimizer_transfer` below."
   ]
  },
  {
   "cell_type": "code",
   "execution_count": null,
   "metadata": {},
   "outputs": [],
   "source": [
    "import torch.optim as optim\n",
    "\n",
    "if 'criterion_transfer' in globals():\n",
    "    del criterion_transfer\n",
    "\n",
    "if 'optimizer_transfer' in globals():\n",
    "    del optimizer_transfer\n",
    "\n",
    "torch.cuda.empty_cache()\n",
    "\n",
    "criterion_transfer = nn.CrossEntropyLoss()\n",
    "\n",
    "# Remaining only x.requires_grad is true.\n",
    "optimizer_transfer = optim.Adam(filter(lambda x: x.requires_grad, model_transfer.parameters()),\n",
    "                                lr=0.005)"
   ]
  },
  {
   "cell_type": "markdown",
   "metadata": {},
   "source": [
    "V2\n",
    "> ```\n",
    "> import torch.optim as optim\n",
    "> \n",
    "> if 'criterion_transfer' in globals():\n",
    "    del criterion_transfer\n",
    "> \n",
    "> if 'optimizer_transfer' in globals():\n",
    ">     del optimizer_transfer\n",
    "> \n",
    "> torch.cuda.empty_cache()\n",
    "> \n",
    "> criterion_transfer = nn.CrossEntropyLoss()\n",
    "> \n",
    "> # if use_cuda:\n",
    "> #     criterion_transfer.cuda()\n",
    "> \n",
    "> for param in model.features.parameters():\n",
    ">     param.requires_grad = False\n",
    "> \n",
    "> optimizer_transfer = optim.SVM(model_transfer.classifier.parameters(), lr=0.005)\n",
    "> ```"
   ]
  },
  {
   "cell_type": "markdown",
   "metadata": {},
   "source": [
    "### (IMPLEMENTATION) Train and Validate the Model\n",
    "\n",
    "Train and validate your model in the code cell below.  [Save the final model parameters](http://pytorch.org/docs/master/notes/serialization.html) at filepath `'model_transfer.pt'`."
   ]
  },
  {
   "cell_type": "code",
   "execution_count": null,
   "metadata": {},
   "outputs": [],
   "source": [
    "n_epochs = 10\n",
    "\n",
    "# train the model\n",
    "model_transfer = train(n_epochs, loaders_transfer, model_transfer, optimizer_transfer,\n",
    "                       criterion_transfer, use_cuda, 'model_transfer.pt', False)\n",
    "\n",
    "# prev_training_loss = 3.2\n",
    "# load_model_pt = True\n",
    "# model_transfer = train(n_epochs, loaders_transfer, model_transfer, optimizer_transfer,\n",
    "#                        criterion_transfer, use_cuda, 'model_transfer.pt', load_model_pt, prev_training_loss)"
   ]
  },
  {
   "cell_type": "code",
   "execution_count": null,
   "metadata": {},
   "outputs": [],
   "source": [
    "# load the model that got the best validation accuracy (uncomment the line below)\n",
    "model_transfer.load_state_dict(torch.load('model_transfer.pt'))"
   ]
  },
  {
   "cell_type": "markdown",
   "metadata": {},
   "source": [
    "### (IMPLEMENTATION) Test the Model\n",
    "\n",
    "Try out your model on the test dataset of dog images. Use the code cell below to calculate and print the test loss and accuracy.  Ensure that your test accuracy is greater than 60%."
   ]
  },
  {
   "cell_type": "code",
   "execution_count": null,
   "metadata": {},
   "outputs": [],
   "source": [
    "test(loaders_transfer, model_transfer, criterion_transfer, use_cuda)"
   ]
  },
  {
   "cell_type": "markdown",
   "metadata": {},
   "source": [
    "### (IMPLEMENTATION) Predict Dog Breed with the Model\n",
    "\n",
    "Write a function that takes an image path as input and returns the dog breed (`Affenpinscher`, `Afghan hound`, etc) that is predicted by your model.  "
   ]
  },
  {
   "cell_type": "code",
   "execution_count": null,
   "metadata": {},
   "outputs": [],
   "source": [
    "### TODO: Write a function that takes a path to an image as input\n",
    "### and returns the dog breed that is predicted by the model.\n",
    "\n",
    "# list of class names by index, i.e. a name can be accessed like class_names[0]\n",
    "class_names = [item[4:].replace(\"_\", \" \") for item in image_datasets['train'].classes]\n",
    "\n",
    "def predict_breed_transfer(img_path):\n",
    "    # load the image and return the predicted breed\n",
    "    img = Image.open(img_path).convert('RGB')\n",
    "    \n",
    "    compose_set = [transforms.Resize(255), \n",
    "                   transforms.CenterCrop(224), \n",
    "                   transforms.ToTensor(), \n",
    "                   transforms.Normalize(mean = [0.485, 0.456, 0.406], \n",
    "                                        std = [0.229, 0.224, 0.225])]\n",
    "    \n",
    "    transform = transforms.Compose(compose_set)\n",
    "    \n",
    "    img_tensor = transform(img).unsqueeze(0)\n",
    "    \n",
    "    if use_cuda:\n",
    "        img_tensor = img_tensor.cuda()\n",
    "        \n",
    "    # Apply model\n",
    "    predict = model_transfer(img_tensor)\n",
    "    \n",
    "    # Tensor.cpu() to copy the tensor to host memory\n",
    "    if torch.cuda.is_available():\n",
    "        predict = predict.cpu()\n",
    "    \n",
    "    # Argmax to get index of the maximum value(among predicted classes)\n",
    "    index = predict.data.numpy().argmax()    \n",
    "    \n",
    "    return class_names[index]"
   ]
  },
  {
   "cell_type": "markdown",
   "metadata": {},
   "source": [
    "---\n",
    "<a id='step5'></a>\n",
    "## Step 5: Write your Algorithm\n",
    "\n",
    "Write an algorithm that accepts a file path to an image and first determines whether the image contains a human, dog, or neither.  Then,\n",
    "- if a __dog__ is detected in the image, return the predicted breed.\n",
    "- if a __human__ is detected in the image, return the resembling dog breed.\n",
    "- if __neither__ is detected in the image, provide output that indicates an error.\n",
    "\n",
    "You are welcome to write your own functions for detecting humans and dogs in images, but feel free to use the `face_detector` and `human_detector` functions developed above.  You are __required__ to use your CNN from Step 4 to predict dog breed.  \n",
    "\n",
    "Some sample output for our algorithm is provided below, but feel free to design your own user experience!\n",
    "\n",
    "![Sample Human Output](images/sample_human_output.png)\n",
    "\n",
    "\n",
    "### (IMPLEMENTATION) Write your Algorithm"
   ]
  },
  {
   "cell_type": "code",
   "execution_count": null,
   "metadata": {},
   "outputs": [],
   "source": [
    "### TODO: Write your algorithm.\n",
    "### Feel free to use as many code cells as needed.\n",
    "\n",
    "def run_app(img_path):\n",
    "    ## handle cases for a human face, dog, and neither\n",
    "    print('----------------------------------------')\n",
    "    print(f'{img_path}')\n",
    "    \n",
    "    plt.imshow(Image.open(img_path))\n",
    "    plt.show()\n",
    "    is_human_face = face_detector(img_path)\n",
    "    is_dog = dog_detector(img_path)\n",
    "    pred_breed = predict_breed_transfer(img_path)\n",
    "    \n",
    "    # Case(1): Human face\n",
    "    if is_human_face and (not is_dog):\n",
    "        print('^-^ It looks like a human face.')\n",
    "        print(f'The face is similar to {pred_breed}.')\n",
    "        \n",
    "    # Case(2): Dog\n",
    "    elif is_dog and (not is_human_face):\n",
    "        print('^-^ It looks like a dog.')\n",
    "        print(f'The breed looks like {pred_breed}.')\n",
    "\n",
    "    # Case(3): Neither\n",
    "    else:\n",
    "        if is_human_face and is_dog:\n",
    "            print(f'Opss ...\\nIt looks like a dog or a human face similar to {pred_breed}.')\n",
    "    \n",
    "        else:\n",
    "            print(f\"Opss ...\\nIt doesn't looks like neighter a dog nor a human face, but it's similar to {pred_breed}.\")\n"
   ]
  },
  {
   "cell_type": "markdown",
   "metadata": {},
   "source": [
    "---\n",
    "<a id='step6'></a>\n",
    "## Step 6: Test Your Algorithm\n",
    "\n",
    "In this section, you will take your new algorithm for a spin!  What kind of dog does the algorithm think that _you_ look like?  If you have a dog, does it predict your dog's breed accurately?  If you have a cat, does it mistakenly think that your cat is a dog?\n",
    "\n",
    "### (IMPLEMENTATION) Test Your Algorithm on Sample Images!\n",
    "\n",
    "Test your algorithm at least six images on your computer.  Feel free to use any images you like.  Use at least two human and two dog images.  \n",
    "\n",
    "__Question 6:__ Is the output better than you expected :) ?  Or worse :( ?  Provide at least three possible points of improvement for your algorithm."
   ]
  },
  {
   "cell_type": "markdown",
   "metadata": {},
   "source": [
    "__Answer:__ (Three possible points for improvement)\n",
    "\n",
    "- Trying VGG19, because it has a higher accuracy than VGG16 which is currently used.\n",
    "- Feeding more images.\n",
    "- Adjusting fully connected layers.\n",
    "- Adjusting learning rate."
   ]
  },
  {
   "cell_type": "code",
   "execution_count": null,
   "metadata": {},
   "outputs": [],
   "source": [
    "## TODO: Execute your algorithm from Step 6 on\n",
    "## at least 6 images on your computer.\n",
    "## Feel free to use as many code cells as needed.\n",
    "\n",
    "## suggested code, below\n",
    "for file in np.hstack((human_files[:3], dog_files[:3])):\n",
    "    run_app(file)"
   ]
  },
  {
   "cell_type": "code",
   "execution_count": null,
   "metadata": {},
   "outputs": [],
   "source": []
  }
 ],
 "metadata": {
  "anaconda-cloud": {},
  "kernelspec": {
   "display_name": "Python 3",
   "language": "python",
   "name": "python3"
  },
  "language_info": {
   "codemirror_mode": {
    "name": "ipython",
    "version": 3
   },
   "file_extension": ".py",
   "mimetype": "text/x-python",
   "name": "python",
   "nbconvert_exporter": "python",
   "pygments_lexer": "ipython3",
   "version": "3.6.3"
  }
 },
 "nbformat": 4,
 "nbformat_minor": 1
}
